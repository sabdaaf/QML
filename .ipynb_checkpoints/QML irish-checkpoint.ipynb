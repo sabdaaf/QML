{
 "cells": [
  {
   "cell_type": "markdown",
   "id": "451eaa02-be5b-466e-a662-66d8b2292104",
   "metadata": {},
   "source": [
    "# Contoh Klasifikasi"
   ]
  },
  {
   "cell_type": "code",
   "execution_count": null,
   "id": "dbc7f98d-905b-4a62-a4ee-aa37669ede17",
   "metadata": {},
   "outputs": [],
   "source": [
    "import matplotlib.pyplot as plt\n",
    "import numpy as np\n",
    "from IPython.display import clear_output\n",
    "from qiskit import QuantumCircuit\n",
    "from qiskit.circuit import Parameter\n",
    "from qiskit.circuit.library import RealAmplitudes, ZZFeatureMap\n",
    "from qiskit_algorithms.optimizers import COBYLA, L_BFGS_B\n",
    "from qiskit_algorithms.utils import algorithm_globals\n",
    "\n",
    "from qiskit_machine_learning.algorithms.classifiers import NeuralNetworkClassifier, VQC\n",
    "from qiskit_machine_learning.algorithms.regressors import NeuralNetworkRegressor, VQR\n",
    "from qiskit_machine_learning.neural_networks import SamplerQNN, EstimatorQNN\n",
    "from qiskit_machine_learning.circuit.library import QNNCircuit\n"
   ]
  },
  {
   "cell_type": "markdown",
   "id": "4793c2a2-867d-4082-8678-2a543d9ec22a",
   "metadata": {},
   "source": [
    "#### Ambil dataset Iris"
   ]
  },
  {
   "cell_type": "code",
   "execution_count": null,
   "id": "ecb3588f-4ce0-47db-a843-6f47f710b823",
   "metadata": {},
   "outputs": [],
   "source": [
    "from sklearn.datasets import load_iris\n",
    "\n",
    "iris_data = load_iris()\n",
    "\n",
    "x = iris_data.data\n",
    "y = iris_data.target"
   ]
  },
  {
   "cell_type": "markdown",
   "id": "df1b5b8b-1f11-4f17-a793-301164cde6c6",
   "metadata": {},
   "source": [
    "#### Normalisasi Data"
   ]
  },
  {
   "cell_type": "code",
   "execution_count": null,
   "id": "fe4972f4-821a-432c-bb61-599b0c17f7df",
   "metadata": {},
   "outputs": [],
   "source": [
    "from sklearn.preprocessing import MinMaxScaler\n",
    "x_normal = MinMaxScaler().fit_transform(x)"
   ]
  },
  {
   "cell_type": "markdown",
   "id": "4bb70236-f696-463a-99fa-3a83044f9489",
   "metadata": {},
   "source": [
    "#### Split Data"
   ]
  },
  {
   "cell_type": "code",
   "execution_count": null,
   "id": "dea0a328-2556-42eb-ac42-b690da2d0175",
   "metadata": {},
   "outputs": [],
   "source": [
    "from sklearn.model_selection import train_test_split\n",
    "from qiskit_algorithms.utils import algorithm_globals\n",
    "\n",
    "algorithm_globals.random_seed = 123\n",
    "train_x, test_x, train_y, test_y = train_test_split(x, y, train_size=0.8, random_state=algorithm_globals.random_seed)"
   ]
  },
  {
   "cell_type": "markdown",
   "id": "a61dea48-3238-465c-95e3-5cb2000d9980",
   "metadata": {},
   "source": [
    "#### Parameterized Circuit: Feature Map"
   ]
  },
  {
   "cell_type": "code",
   "execution_count": 21,
   "id": "cebc3034-2749-4653-993f-e9d64398cb76",
   "metadata": {},
   "outputs": [
    {
     "data": {
      "image/png": "[encoded data removed]",
      "text/plain": [
       "<Figure size 705.35x200.667 with 1 Axes>"
      ]
     },
     "execution_count": 21,
     "metadata": {},
     "output_type": "execute_result"
    }
   ],
   "source": [
    "from qiskit.circuit.library import ZZFeatureMap\n",
    "\n",
    "jum_fitur = x.shape[1]\n",
    "\n",
    "feature_map = ZZFeatureMap(feature_dimension=jum_fitur, reps=1)\n",
    "feature_map.decompose().draw(output=\"mpl\", style=\"clifford\", fold=20)"
   ]
  },
  {
   "cell_type": "markdown",
   "id": "2bcd283d-c7c0-4a4f-b09e-73bc15af8f3f",
   "metadata": {},
   "source": [
    "#### Parameterized Circuit: Ansatz"
   ]
  },
  {
   "cell_type": "code",
   "execution_count": 24,
   "id": "7e11a9f3-5004-4f0e-9a4c-00b8db7b711a",
   "metadata": {},
   "outputs": [
    {
     "data": {
      "image/png": "[encoded data removed]",
      "text/plain": [
       "<Figure size 705.35x200.667 with 1 Axes>"
      ]
     },
     "execution_count": 24,
     "metadata": {},
     "output_type": "execute_result"
    }
   ],
   "source": [
    "from qiskit.circuit.library import RealAmplitudes\n",
    "\n",
    "ansatz = RealAmplitudes(num_qubits=jum_fitur, reps=3)\n",
    "ansatz.decompose().draw(output=\"mpl\", style=\"clifford\", fold=20)"
   ]
  },
  {
   "cell_type": "markdown",
   "id": "ca30a168-089b-44c3-9e59-49c0cb63e0d9",
   "metadata": {},
   "source": [
    "### Optimasi pelatihan menggunakan algoritma COBYLA"
   ]
  },
  {
   "cell_type": "code",
   "execution_count": 27,
   "id": "1ef2b255-1966-42b5-9544-b2e9ed5b4b71",
   "metadata": {},
   "outputs": [
    {
     "ename": "ModuleNotFoundError",
     "evalue": "No module named 'qiskit_algorithms'",
     "output_type": "error",
     "traceback": [
      "\u001b[1;31m---------------------------------------------------------------------------\u001b[0m",
      "\u001b[1;31mModuleNotFoundError\u001b[0m                       Traceback (most recent call last)",
      "Cell \u001b[1;32mIn[27], line 1\u001b[0m\n\u001b[1;32m----> 1\u001b[0m \u001b[38;5;28;01mfrom\u001b[39;00m \u001b[38;5;21;01mqiskit_algorithms\u001b[39;00m\u001b[38;5;21;01m.\u001b[39;00m\u001b[38;5;21;01moptimizers\u001b[39;00m \u001b[38;5;28;01mimport\u001b[39;00m COBYLA\n\u001b[0;32m      3\u001b[0m optimizer \u001b[38;5;241m=\u001b[39m COBYLA(maxiter\u001b[38;5;241m=\u001b[39m\u001b[38;5;241m100\u001b[39m)\n",
      "\u001b[1;31mModuleNotFoundError\u001b[0m: No module named 'qiskit_algorithms'"
     ]
    }
   ],
   "source": [
    "from qiskit_algorithms.optimizers import COBYLA\n",
    "\n",
    "optimizer = COBYLA(maxiter=100)"
   ]
  },
  {
   "cell_type": "code",
   "execution_count": null,
   "id": "9fa9ab10-5a5d-44b3-92dc-a21428ca41c8",
   "metadata": {},
   "outputs": [],
   "source": [
    "from qiskit.primitives import Sampler\n",
    "\n",
    "sampler = Sampler()"
   ]
  },
  {
   "cell_type": "markdown",
   "id": "53223e65-919e-49e4-97b4-69570ab936b5",
   "metadata": {},
   "source": [
    "### Buat fungsi untuk menggambar proses pelatihan"
   ]
  },
  {
   "cell_type": "code",
   "execution_count": null,
   "id": "dcd1501a-9cb2-453b-8d85-00c62d07c358",
   "metadata": {},
   "outputs": [],
   "source": [
    "from matplotlib import pyplot as plt\n",
    "from IPython.display import clear_output\n",
    "\n",
    "objective_func_vals = []\n",
    "plt.rcParams[\"figure.figsize\"] = (12, 6)\n",
    "\n",
    "\n",
    "def callback_graph(weights, obj_func_eval):\n",
    "    clear_output(wait=True)\n",
    "    objective_func_vals.append(obj_func_eval)\n",
    "    plt.title(\"Objective function value against iteration\")\n",
    "    plt.xlabel(\"Iteration\")\n",
    "    plt.ylabel(\"Objective function value\")\n",
    "    plt.plot(range(len(objective_func_vals)), objective_func_vals)\n",
    "    plt.show()"
   ]
  },
  {
   "cell_type": "markdown",
   "id": "5d927629-d6e4-43b2-af69-38357ceee224",
   "metadata": {},
   "source": [
    "### Algoritma QML: VQC"
   ]
  },
  {
   "cell_type": "code",
   "execution_count": null,
   "id": "54c87b82-844b-4272-96b9-887a30d8d211",
   "metadata": {},
   "outputs": [],
   "source": [
    "import time\n",
    "from qiskit_machine_learning.algorithms.classifiers import VQC\n",
    "\n",
    "vqc = VQC(\n",
    "    sampler=sampler,\n",
    "    feature_map=feature_map,\n",
    "    ansatz=ansatz,\n",
    "    optimizer=optimizer,\n",
    "    callback=callback_graph,\n",
    ")\n"
   ]
  },
  {
   "cell_type": "markdown",
   "id": "f1240b23-e395-4c25-ba42-6eafa895e8ec",
   "metadata": {},
   "source": [
    "### Pelatihan"
   ]
  },
  {
   "cell_type": "code",
   "execution_count": null,
   "id": "f56a9e96-0e1f-4539-a9f7-550cb4af695c",
   "metadata": {},
   "outputs": [],
   "source": [
    "\n",
    "objective_func_vals = []\n",
    "\n",
    "start = time.time()\n",
    "vqc.fit(train_x, train_y)\n",
    "elapsed = time.time() - start\n",
    "\n",
    "print(f\"Training time: {round(elapsed)} seconds\")"
   ]
  },
  {
   "cell_type": "markdown",
   "id": "527bfedb-0680-40e0-a0c5-9dd042dc9373",
   "metadata": {},
   "source": [
    "### Pengujian"
   ]
  },
  {
   "cell_type": "code",
   "execution_count": null,
   "id": "0354753b-afb6-4fac-b386-193df314c086",
   "metadata": {},
   "outputs": [],
   "source": [
    "score_training = vqc.score(train_x, train_y)\n",
    "score_test = vqc.score(test_x, test_y)\n",
    "\n",
    "print(f\"Quantum VQC on the training dataset: {score_training:.2f}\")\n",
    "print(f\"Quantum VQC on the test dataset:     {score_test:.2f}\")"
   ]
  },
  {
   "cell_type": "markdown",
   "id": "7e2ebdd7-f686-409a-97a1-2fc94414b4fa",
   "metadata": {},
   "source": [
    "# Reduksi Jumlah Fitur menggunakan PCA"
   ]
  },
  {
   "cell_type": "code",
   "execution_count": null,
   "id": "89f883d9-69cb-4f19-89e6-44532f1f3210",
   "metadata": {},
   "outputs": [],
   "source": [
    "from sklearn.datasets import load_iris\n",
    "\n",
    "iris_data = load_iris()"
   ]
  },
  {
   "cell_type": "code",
   "execution_count": null,
   "id": "15ca2c5d-9b83-4062-8bfe-7931889ef5f3",
   "metadata": {},
   "outputs": [],
   "source": [
    "features = iris_data.data\n",
    "labels = iris_data.target"
   ]
  },
  {
   "cell_type": "code",
   "execution_count": null,
   "id": "a5cd9ffa-5c5d-4308-b912-626efd532a0d",
   "metadata": {},
   "outputs": [],
   "source": [
    "from sklearn.preprocessing import MinMaxScaler\n",
    "\n",
    "features = MinMaxScaler().fit_transform(features)"
   ]
  },
  {
   "cell_type": "code",
   "execution_count": null,
   "id": "c24a6465-3f79-4884-bae9-9fe9503d45c8",
   "metadata": {},
   "outputs": [],
   "source": [
    "from matplotlib import pyplot as plt\n",
    "from sklearn.decomposition import PCA\n",
    "import seaborn as sns\n",
    "\n",
    "features = PCA(n_components=2).fit_transform(features)\n",
    "\n",
    "plt.rcParams[\"figure.figsize\"] = (6, 6)\n",
    "sns.scatterplot(x=features[:, 0], y=features[:, 1], hue=labels, palette=\"tab10\")"
   ]
  },
  {
   "cell_type": "markdown",
   "id": "4158b3f0-e6c1-48ec-a504-115f0f112c2f",
   "metadata": {},
   "source": [
    "#### Split Data"
   ]
  },
  {
   "cell_type": "code",
   "execution_count": null,
   "id": "a51eba6a-2140-426a-9274-8ec5ab5a45fc",
   "metadata": {},
   "outputs": [],
   "source": [
    "train_x, test_x, train_y, test_y = train_test_split(features, labels, train_size=0.8, random_state=algorithm_globals.random_seed)\n"
   ]
  },
  {
   "cell_type": "code",
   "execution_count": null,
   "id": "c20dc849-0b78-4ce4-93c4-fc9dd28218ab",
   "metadata": {},
   "outputs": [],
   "source": [
    "from qiskit.circuit.library import ZZFeatureMap\n",
    "from qiskit.circuit.library import RealAmplitudes\n",
    "\n",
    "num_features = features.shape[1]\n",
    "\n",
    "feature_map = ZZFeatureMap(feature_dimension=num_features, reps=1)\n",
    "ansatz = RealAmplitudes(num_qubits=num_features, reps=3)"
   ]
  },
  {
   "cell_type": "code",
   "execution_count": null,
   "id": "01f0a7df-572e-43fe-b3df-5bf4f5931d12",
   "metadata": {},
   "outputs": [],
   "source": [
    "optimizer = COBYLA(maxiter=40)"
   ]
  },
  {
   "cell_type": "markdown",
   "id": "36c63c47-4bd3-41d7-9588-da70d7b2b209",
   "metadata": {},
   "source": [
    "#### Pelatihan Model"
   ]
  },
  {
   "cell_type": "code",
   "execution_count": null,
   "id": "6a2467d6-e4d0-444f-9d4f-c0a8cfe64ef1",
   "metadata": {},
   "outputs": [],
   "source": [
    "vqc = VQC(\n",
    "    sampler=sampler,\n",
    "    feature_map=feature_map,\n",
    "    ansatz=ansatz,\n",
    "    optimizer=optimizer,\n",
    "    callback=callback_graph,\n",
    ")\n",
    "\n",
    "# clear objective value history\n",
    "objective_func_vals = []\n",
    "\n",
    "# make the objective function plot look nicer.\n",
    "plt.rcParams[\"figure.figsize\"] = (12, 6)\n",
    "\n",
    "\n",
    "start = time.time()\n",
    "vqc.fit(train_x, train_y)\n",
    "elapsed = time.time() - start\n",
    "\n",
    "print(f\"Training time: {round(elapsed)} seconds\")"
   ]
  },
  {
   "cell_type": "code",
   "execution_count": null,
   "id": "3d5b1bf3-cda2-4269-a0c9-d848366a0874",
   "metadata": {},
   "outputs": [],
   "source": [
    "train_score_q2_ra = vqc.score(train_x, train_y)\n",
    "test_score_q2_ra = vqc.score(test_x, test_y)\n",
    "\n",
    "print(f\"Quantum VQC on the training dataset using RealAmplitudes: {train_score_q2_ra:.2f}\")\n",
    "print(f\"Quantum VQC on the test dataset using RealAmplitudes:     {test_score_q2_ra:.2f}\")"
   ]
  },
  {
   "cell_type": "markdown",
   "id": "41a7ba36-3f49-4189-9754-79ddc5a1961f",
   "metadata": {},
   "source": [
    "#### Menggunakan Ansatz yang lain"
   ]
  },
  {
   "cell_type": "code",
   "execution_count": null,
   "id": "ec7a4a35-c5c9-43c4-b646-6e11adeafd57",
   "metadata": {},
   "outputs": [],
   "source": [
    "from qiskit.circuit.library import EfficientSU2\n",
    "\n",
    "ansatz = EfficientSU2(num_qubits=num_features, reps=3)\n",
    "optimizer = COBYLA(maxiter=40)\n",
    "\n",
    "vqc = VQC(\n",
    "    sampler=sampler,\n",
    "    feature_map=feature_map,\n",
    "    ansatz=ansatz,\n",
    "    optimizer=optimizer,\n",
    "    callback=callback_graph,\n",
    ")\n",
    "\n",
    "# clear objective value history\n",
    "objective_func_vals = []\n",
    "\n",
    "start = time.time()\n",
    "vqc.fit(train_x, train_y)\n",
    "elapsed = time.time() - start\n",
    "\n",
    "print(f\"Training time: {round(elapsed)} seconds\")"
   ]
  },
  {
   "cell_type": "code",
   "execution_count": null,
   "id": "ec96e015-9958-4809-88cc-f620be6345b4",
   "metadata": {},
   "outputs": [],
   "source": [
    "train_score_q2_eff = vqc.score(train_x, train_y)\n",
    "test_score_q2_eff = vqc.score(test_x, test_y)\n",
    "\n",
    "print(f\"Quantum VQC on the training dataset using EfficientSU2: {train_score_q2_eff:.2f}\")\n",
    "print(f\"Quantum VQC on the test dataset using EfficientSU2:     {test_score_q2_eff:.2f}\")"
   ]
  },
  {
   "cell_type": "markdown",
   "id": "abc986f7-b88a-4f47-a386-8378d43f7c15",
   "metadata": {},
   "source": [
    "# Contoh Regresi dengan Variational Quantum Regressor (VQR)"
   ]
  },
  {
   "cell_type": "code",
   "execution_count": null,
   "id": "4528deac-d697-4edb-b4f6-70cd8dfba3d9",
   "metadata": {},
   "outputs": [],
   "source": [
    "from sklearn.datasets import make_regression\n",
    "\n",
    "X, y = make_regression(n_samples=50, n_features=5, noise=1, random_state=42)"
   ]
  },
  {
   "cell_type": "code",
   "execution_count": null,
   "id": "687d4cf0-2010-4386-9d09-5ee5decedfa0",
   "metadata": {},
   "outputs": [],
   "source": [
    "from sklearn.preprocessing import MinMaxScaler\n",
    "\n",
    "x = MinMaxScaler().fit_transform(X)"
   ]
  },
  {
   "cell_type": "code",
   "execution_count": null,
   "id": "6c00bdf5-e114-4a7e-9851-317aad7b7219",
   "metadata": {},
   "outputs": [],
   "source": [
    "train_x, test_x, train_y, test_y = train_test_split(x, y, train_size=0.8, random_state=algorithm_globals.random_seed)"
   ]
  },
  {
   "cell_type": "code",
   "execution_count": null,
   "id": "947e74c8-dad4-419a-9525-89295c684a9f",
   "metadata": {},
   "outputs": [],
   "source": [
    "from qiskit.circuit.library import ZZFeatureMap\n",
    "from qiskit.circuit.library import RealAmplitudes\n",
    "\n",
    "num_features = x.shape[1]\n",
    "\n",
    "feature_map = ZZFeatureMap(feature_dimension=num_features, reps=1)\n",
    "ansatz = RealAmplitudes(num_qubits=num_features, reps=3)"
   ]
  },
  {
   "cell_type": "code",
   "execution_count": null,
   "id": "3b617758-a5fc-4b76-8e46-2d28344d4631",
   "metadata": {},
   "outputs": [],
   "source": [
    "vqr = VQR(\n",
    "    feature_map=feature_map,\n",
    "    ansatz=ansatz,\n",
    "    optimizer=L_BFGS_B(maxiter=5),\n",
    "    callback=callback_graph,\n",
    ")"
   ]
  },
  {
   "cell_type": "code",
   "execution_count": null,
   "id": "8becc211-2a42-400a-9225-6d639c287cbd",
   "metadata": {},
   "outputs": [],
   "source": [
    "# create empty array for callback to store evaluations of the objective function\n",
    "objective_func_vals = []\n",
    "plt.rcParams[\"figure.figsize\"] = (12, 6)\n",
    "\n",
    "# fit regressor\n",
    "vqr.fit(train_x, train_y)\n",
    "\n",
    "# return to default figsize\n",
    "plt.rcParams[\"figure.figsize\"] = (6, 4)\n",
    "\n",
    "# score result\n",
    "vqr.score(train_x, train_y)\n"
   ]
  },
  {
   "cell_type": "code",
   "execution_count": null,
   "id": "2cdfc45a-3817-42da-b34d-3ef805932db2",
   "metadata": {},
   "outputs": [],
   "source": [
    "# score result\n",
    "vqr.score(test_x, test_y)\n"
   ]
  }
 ],
 "metadata": {
  "kernelspec": {
   "display_name": "Python 3 (ipykernel)",
   "language": "python",
   "name": "python3"
  },
  "language_info": {
   "codemirror_mode": {
    "name": "ipython",
    "version": 3
   },
   "file_extension": ".py",
   "mimetype": "text/x-python",
   "name": "python",
   "nbconvert_exporter": "python",
   "pygments_lexer": "ipython3",
   "version": "3.12.4"
  }
 },
 "nbformat": 4,
 "nbformat_minor": 5
}
