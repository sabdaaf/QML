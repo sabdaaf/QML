{
 "cells": [
  {
   "cell_type": "code",
   "execution_count": 5,
   "id": "1361bf49-cef1-4cbe-b735-db9758c2ef09",
   "metadata": {},
   "outputs": [],
   "source": [
    "import pennylane as qml\n",
    "from pennylane import numpy as np\n",
    "from sklearn.datasets import load_iris\n",
    "from sklearn.model_selection import train_test_split\n",
    "from sklearn.preprocessing import StandardScaler, LabelBinarizer"
   ]
  },
  {
   "cell_type": "code",
   "execution_count": 6,
   "id": "38ebfb13-6e24-4fe2-98f9-4664a407e184",
   "metadata": {},
   "outputs": [],
   "source": [
    "# Load Iris dataset\n",
    "data = load_iris()\n",
    "X = data.data\n",
    "y = data.target"
   ]
  },
  {
   "cell_type": "code",
   "execution_count": 9,
   "id": "70ebe701-278f-42f7-b1e5-caad1de42921",
   "metadata": {},
   "outputs": [],
   "source": [
    "# Reduce to binary classification (e.g., class 0 and 1)\n",
    "X = X[y < 2]\n",
    "y = y[y < 2]"
   ]
  },
  {
   "cell_type": "code",
   "execution_count": 11,
   "id": "ce98de25-3d2d-422c-a9fa-bd675977a789",
   "metadata": {},
   "outputs": [],
   "source": [
    "# Normalize features\n",
    "scaler = StandardScaler()\n",
    "X = scaler.fit_transform(X)"
   ]
  },
  {
   "cell_type": "code",
   "execution_count": 13,
   "id": "90c2df8e-17a5-4b22-af91-279d7e3db964",
   "metadata": {},
   "outputs": [],
   "source": [
    "# Train-test split\n",
    "X_train, X_test, y_train, y_test = train_test_split(X, y, test_size=0.2, random_state=42)"
   ]
  },
  {
   "cell_type": "code",
   "execution_count": 15,
   "id": "44e5b5e5-64ad-491c-bd34-f57c1ca47cae",
   "metadata": {},
   "outputs": [],
   "source": [
    "# Quantum device\n",
    "dev = qml.device(\"default.qubit\", wires=2)"
   ]
  },
  {
   "cell_type": "code",
   "execution_count": 21,
   "id": "a7d130d2-f577-4f23-ba4a-63af4ae7dc98",
   "metadata": {},
   "outputs": [],
   "source": [
    "# Define a quantum circuit for feature embedding and classification\n",
    "@qml.qnode(dev)\n",
    "def quantum_circuit(inputs, weights):\n",
    "    # Feature encoding\n",
    "    qml.AngleEmbedding(inputs, wires=[0, 1])\n",
    "    \n",
    "    # Trainable layer\n",
    "    qml.StronglyEntanglingLayers(weights, wires=[0, 1])\n",
    "\n",
    "    # Measurement\n",
    "    return qml.expval(qml.PauliZ(0))"
   ]
  },
  {
   "cell_type": "code",
   "execution_count": 25,
   "id": "c98d6587-08d7-436d-a7bb-49fdc3d8a6ec",
   "metadata": {},
   "outputs": [],
   "source": [
    "# Initialize weights\n",
    "n_layers = 2\n",
    "weights_shape = qml.StronglyEntanglingLayers.shape(n_layers=n_layers, n_wires=2)\n",
    "weights = np.random.random(weights_shape)\n"
   ]
  },
  {
   "cell_type": "code",
   "execution_count": 27,
   "id": "5f2ac409-a21b-4fd1-904c-e750abc9e113",
   "metadata": {},
   "outputs": [],
   "source": [
    "# Hybrid quantum-classical model\n",
    "def hybrid_model(inputs, weights):\n",
    "    return quantum_circuit(inputs, weights)"
   ]
  },
  {
   "cell_type": "code",
   "execution_count": 29,
   "id": "f8829825-a57b-4e00-8a60-0da575c592e8",
   "metadata": {},
   "outputs": [],
   "source": [
    "# Loss function\n",
    "def square_loss(y_pred, y_true):\n",
    "    return np.mean((y_pred - y_true)**2)"
   ]
  },
  {
   "cell_type": "code",
   "execution_count": 31,
   "id": "f334dad7-6261-49c5-8494-f04466cae14e",
   "metadata": {},
   "outputs": [],
   "source": [
    "# Accuracy function\n",
    "def accuracy(y_pred, y_true):\n",
    "    y_pred_labels = np.sign(y_pred)\n",
    "    return np.mean(y_pred_labels == y_true)"
   ]
  },
  {
   "cell_type": "code",
   "execution_count": 14,
   "id": "86143bde-99f5-4598-8577-0184e76b70f3",
   "metadata": {},
   "outputs": [
    {
     "ename": "NameError",
     "evalue": "name 'qml' is not defined",
     "output_type": "error",
     "traceback": [
      "\u001b[1;31m---------------------------------------------------------------------------\u001b[0m",
      "\u001b[1;31mNameError\u001b[0m                                 Traceback (most recent call last)",
      "Cell \u001b[1;32mIn[14], line 2\u001b[0m\n\u001b[0;32m      1\u001b[0m \u001b[38;5;66;03m# Training loop\u001b[39;00m\n\u001b[1;32m----> 2\u001b[0m opt \u001b[38;5;241m=\u001b[39m qml\u001b[38;5;241m.\u001b[39mGradientDescentOptimizer(stepsize\u001b[38;5;241m=\u001b[39m\u001b[38;5;241m0.1\u001b[39m)\n\u001b[0;32m      3\u001b[0m epochs \u001b[38;5;241m=\u001b[39m \u001b[38;5;241m50\u001b[39m\n\u001b[0;32m      5\u001b[0m \u001b[38;5;28;01mfor\u001b[39;00m epoch \u001b[38;5;129;01min\u001b[39;00m \u001b[38;5;28mrange\u001b[39m(epochs):\n",
      "\u001b[1;31mNameError\u001b[0m: name 'qml' is not defined"
     ]
    }
   ],
   "source": [
    "# Training loop\n",
    "opt = qml.GradientDescentOptimizer(stepsize=0.1)\n",
    "epochs = 50\n",
    "\n",
    "for epoch in range(epochs):\n",
    "    for i in range(len(X_train)):\n",
    "        inputs = X_train[i]\n",
    "\n",
    "        if len(inputs) != 2:\n",
    "            raise ValueError(f\"Expected input features of length 2, but got {len(inputs)}. Ensure PCA preprocessing is correct.\")\n",
    "\n",
    "        label = y_train[i] * 2 - 1  # Convert to {-1, 1}\n",
    "        \n",
    "        weights = opt.step(lambda w: square_loss(hybrid_model(inputs, w), label), weights)\n"
   ]
  },
  {
   "cell_type": "code",
   "execution_count": null,
   "id": "6f7658e2-50fe-4f38-b77d-0c8ca77fd849",
   "metadata": {},
   "outputs": [],
   "source": []
  },
  {
   "cell_type": "markdown",
   "id": "3c8380da-c014-40a3-b85b-22b6450e8307",
   "metadata": {},
   "source": [
    "# Assistant\n",
    "The error occurs because the code is trying to use the `qml` module, which has not been imported or defined in your code. To fix this error, you need to ensure that you import the necessary library at the beginning of your code.\n",
    "\n",
    "Would you like me to provide the corrected code with the import statement?"
   ]
  },
  {
   "cell_type": "markdown",
   "id": "2b4dbd91-c616-46a6-8a28-251555abaa49",
   "metadata": {},
   "source": [
    "# Assistant\n",
    "The error occurs because the code is trying to use the `qml` module, which has not been imported or defined in your code. To fix this error, you need to ensure that you import the necessary library at the beginning of your code.\n",
    "\n",
    "Would you like me to provide the corrected code with the import statement?"
   ]
  },
  {
   "cell_type": "markdown",
   "id": "5c088270-8ec5-4115-833e-02f0ed09e3c3",
   "metadata": {},
   "source": [
    "# Assistant\n",
    "The error occurs because the code is trying to use the `qml` module, which has not been imported or defined in your code. To fix this error, you need to ensure that you import the necessary library at the beginning of your code.\n",
    "\n",
    "Would you like me to provide the corrected code with the import statement?"
   ]
  },
  {
   "cell_type": "markdown",
   "id": "c62db324-2ddc-4aac-b91e-b39b77a18ed2",
   "metadata": {},
   "source": [
    "# Assistant\n",
    "The error occurs because the code is trying to use the `qml` module, which has not been imported or defined in your code. To fix this error, you need to ensure that you import the necessary library at the beginning of your code.\n",
    "\n",
    "Would you like me to provide the corrected code with the import statement?"
   ]
  },
  {
   "cell_type": "markdown",
   "id": "39a12222-eb57-45ee-b5d1-361132c03caa",
   "metadata": {},
   "source": [
    "# Assistant\n",
    "The error occurs because the code is trying to use the `qml` module, which has not been imported or defined in your code. To fix this error, you need to ensure that you import the necessary library at the beginning of your code.\n",
    "\n",
    "Would you like me to provide the corrected code with the import statement?"
   ]
  },
  {
   "cell_type": "markdown",
   "id": "0d80ae2d-cad5-4842-bfeb-3d3645b4ed54",
   "metadata": {},
   "source": [
    "# Assistant\n",
    "The error occurs because the code is trying to use the `qml` module, which has not been imported or defined in your code. To fix this error, you need to ensure that you import the necessary library at the beginning of your code.\n",
    "\n",
    "Would you like me to provide the corrected code with the import statement?"
   ]
  },
  {
   "cell_type": "markdown",
   "id": "00045bd1-996e-453c-8f08-29f9569e11da",
   "metadata": {},
   "source": [
    "# Assistant\n",
    "The error occurs because the code is trying to use the `qml` module, which has not been imported or defined in your code. To fix this error, you need to ensure that you import the necessary library at the beginning of your code.\n",
    "\n",
    "Would you like me to provide the corrected code with the import statement?"
   ]
  }
 ],
 "metadata": {
  "kernelspec": {
   "display_name": "Python 3 (ipykernel)",
   "language": "python",
   "name": "python3"
  },
  "language_info": {
   "codemirror_mode": {
    "name": "ipython",
    "version": 3
   },
   "file_extension": ".py",
   "mimetype": "text/x-python",
   "name": "python",
   "nbconvert_exporter": "python",
   "pygments_lexer": "ipython3",
   "version": "3.12.4"
  }
 },
 "nbformat": 4,
 "nbformat_minor": 5
}
